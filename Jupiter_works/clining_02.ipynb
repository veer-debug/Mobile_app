{
 "cells": [
  {
   "cell_type": "code",
   "execution_count": null,
   "metadata": {},
   "outputs": [
    {
     "ename": "",
     "evalue": "",
     "output_type": "error",
     "traceback": [
      "\u001b[1;31mRunning cells with 'Python 3.12.4' requires the ipykernel package.\n",
      "\u001b[1;31mRun the following command to install 'ipykernel' into the Python environment. \n",
      "\u001b[1;31mCommand: 'c:/Users/theve/AppData/Local/Programs/Python/Python312/python.exe -m pip install ipykernel -U --user --force-reinstall'"
     ]
    }
   ],
   "source": [
    "import pandas as pd\n",
    "import numpy as np"
   ]
  },
  {
   "cell_type": "code",
   "execution_count": null,
   "metadata": {},
   "outputs": [],
   "source": [
    "df=pd.read_csv('./Datasets/Clined_Smart_01.csv')"
   ]
  },
  {
   "cell_type": "code",
   "execution_count": null,
   "metadata": {},
   "outputs": [],
   "source": [
    "df.head(2)"
   ]
  },
  {
   "cell_type": "markdown",
   "metadata": {},
   "source": [
    "# Brand"
   ]
  },
  {
   "cell_type": "code",
   "execution_count": null,
   "metadata": {},
   "outputs": [],
   "source": [
    "df['Brand'].value_counts()"
   ]
  },
  {
   "cell_type": "code",
   "execution_count": null,
   "metadata": {},
   "outputs": [],
   "source": [
    "df['Brand']=df['Brand'].str.replace('Redmi','Xiaomi')"
   ]
  },
  {
   "cell_type": "code",
   "execution_count": null,
   "metadata": {},
   "outputs": [],
   "source": [
    "df['Brand'].value_counts()"
   ]
  },
  {
   "cell_type": "code",
   "execution_count": null,
   "metadata": {},
   "outputs": [],
   "source": [
    "df['Brand']=df['Brand'].str.replace('Oppo','OPPO')"
   ]
  },
  {
   "cell_type": "code",
   "execution_count": null,
   "metadata": {},
   "outputs": [],
   "source": [
    "df['Brand'].value_counts().shape"
   ]
  },
  {
   "cell_type": "code",
   "execution_count": null,
   "metadata": {},
   "outputs": [],
   "source": [
    "df['Brand']=df['Brand'].str.replace('POCO','Poco')"
   ]
  },
  {
   "cell_type": "code",
   "execution_count": null,
   "metadata": {},
   "outputs": [],
   "source": [
    "df['Brand'].value_counts()"
   ]
  },
  {
   "cell_type": "markdown",
   "metadata": {},
   "source": [
    "# Processor_brand"
   ]
  },
  {
   "cell_type": "code",
   "execution_count": null,
   "metadata": {},
   "outputs": [],
   "source": [
    "df['Processor_brand'].value_counts()"
   ]
  },
  {
   "cell_type": "code",
   "execution_count": null,
   "metadata": {},
   "outputs": [],
   "source": [
    "df['Processor_brand']=df['Processor_brand'].str.replace(',','')"
   ]
  },
  {
   "cell_type": "code",
   "execution_count": null,
   "metadata": {},
   "outputs": [],
   "source": [
    "df['Processor_brand'].value_counts()"
   ]
  },
  {
   "cell_type": "code",
   "execution_count": null,
   "metadata": {},
   "outputs": [],
   "source": [
    "df.loc[df['Processor_brand']=='1.6','Processor_brand']='Snapdragon'"
   ]
  },
  {
   "cell_type": "code",
   "execution_count": null,
   "metadata": {},
   "outputs": [],
   "source": [
    "df['Processor_brand'].value_counts()"
   ]
  },
  {
   "cell_type": "code",
   "execution_count": null,
   "metadata": {},
   "outputs": [],
   "source": []
  },
  {
   "cell_type": "code",
   "execution_count": null,
   "metadata": {},
   "outputs": [],
   "source": [
    "\n",
    "df[df['Processor_brand']=='Quad']"
   ]
  },
  {
   "cell_type": "code",
   "execution_count": null,
   "metadata": {},
   "outputs": [],
   "source": [
    "df['Processor_brand'].value_counts()"
   ]
  },
  {
   "cell_type": "code",
   "execution_count": null,
   "metadata": {},
   "outputs": [],
   "source": [
    "df.info()"
   ]
  },
  {
   "cell_type": "code",
   "execution_count": null,
   "metadata": {},
   "outputs": [],
   "source": [
    "df.loc[df.Processor_speed=='Octa','Name'].values"
   ]
  },
  {
   "cell_type": "code",
   "execution_count": null,
   "metadata": {},
   "outputs": [],
   "source": [
    "smartphones_processors = {\n",
    "    'Samsung Galaxy S25 Ultra': 3.36,  # Exynos 2400 / Snapdragon 8 Gen 3\n",
    "    'Motorola Moto Edge 50 Neo': 3.1,  # Snapdragon 8+ Gen 1\n",
    "    'Xiaomi Redmi 14 5G': 2.2,         # Snapdragon 695\n",
    "    'Vivo T3x 5G': 2.4,                # MediaTek Dimensity 810\n",
    "    'Samsung Galaxy F55 5G': 2.4,      # Exynos 1280\n",
    "    'Samsung Galaxy A56': 2.8,         # Exynos 1380\n",
    "    'Apple iPhone 16': 3.46,           # Apple A17 Pro\n",
    "    'Infinix Zero 40': 2.8,            # MediaTek Dimensity 1200\n",
    "    'Samsung Galaxy F14 5G (6GB RAM + 128GB)': 2.0, # Exynos 1330\n",
    "    'Samsung Galaxy F16 5G': 2.6,      # Exynos 1380\n",
    "    'Infinix Hot 40 5G': 2.0,          # MediaTek Dimensity 6020\n",
    "    'Samsung Galaxy M16': 2.2,         # Snapdragon 720G\n",
    "    'Motorola Moto X50': 3.1,          # Snapdragon 8 Gen 2\n",
    "    'Tesla Pi Phone': 3.0,             # Hypothetical, estimate based on flagship chips\n",
    "    'Google Pixel 9 Pro': 3.0,         # Google Tensor G3\n",
    "    'OnePlus 13': 3.36,                # Snapdragon 8 Gen 3\n",
    "    'Samsung Galaxy A75 5G': 2.4,      # Exynos 1380\n",
    "    'Infinix Note 15 Pro 5G': 2.8,     # MediaTek Dimensity 1300\n",
    "    'Vivo X110 Pro': 3.0,              # Snapdragon 8 Gen 2\n",
    "    'Nothing Phone 3a': 2.84,          # Snapdragon 8+ Gen 1\n",
    "    'Lava Agni 3 5G': 2.2,             # MediaTek Dimensity 810\n",
    "    'iQOO 13': 3.36,                   # Snapdragon 8 Gen 3\n",
    "    'Samsung Galaxy F17 5G': 2.4,      # Exynos 1380\n",
    "    'Xiaomi Redmi Note 14 Pro Plus': 2.84, # Snapdragon 8+ Gen 1\n",
    "    'iQOO 13 Pro': 3.36,               # Snapdragon 8 Gen 3\n",
    "    'Google Pixel 6A': 2.8,            # Google Tensor G1\n",
    "    'Nubia Red Magic 10 Pro 5G': 3.2,  # Snapdragon 8 Gen 2\n",
    "    'Xiaomi Redmi Note 15 Pro Plus': 2.84, # Snapdragon 8+ Gen 1\n",
    "    'Realme 13': 2.84,                 # Snapdragon 8+ Gen 1\n",
    "    'Samsung Galaxy F25 5G': 2.4,      # Exynos 1280\n",
    "    'Samsung Galaxy S25': 3.36,        # Exynos 2400 / Snapdragon 8 Gen 3\n",
    "    'Google Pixel 9': 3.0,             # Google Tensor G3\n",
    "    'Motorola Edge 60 Pro': 3.36,      # Snapdragon 8 Gen 3\n",
    "    'Realme 12 Pro Max': 3.0,          # Snapdragon 8+ Gen 2\n",
    "    'Vivo X110 Pro Plus': 3.0,         # Snapdragon 8 Gen 2\n",
    "    'Xiaomi 15 Pro': 3.36,             # Snapdragon 8 Gen 3\n",
    "    'OPPO Find N4': 3.36,              # Snapdragon 8 Gen 3\n",
    "    'OnePlus 13 Pro': 3.36,            # Snapdragon 8 Gen 3\n",
    "    'Apple iPhone 17 Pro': 3.46,       # Apple A17 Pro (or next-gen)\n",
    "    'Apple iPhone 16 Plus': 3.46,      # Apple A17 Pro\n",
    "    'Realme GT Neo 6 SE': 3.0,         # Snapdragon 8+ Gen 1\n",
    "    'Samsung Galaxy S25 Plus': 3.36,   # Exynos 2400 / Snapdragon 8 Gen 3\n",
    "    'Vivo S19': 2.4,                   # MediaTek Dimensity 920\n",
    "    'Nubia Red Magic 10 Pro Plus 5G': 3.36, # Snapdragon 8 Gen 3\n",
    "    'Samsung Galaxy A24 5G': 2.4,      # Exynos 1380\n",
    "    'Apple iPhone 16 Ultra': 3.46,     # Apple A17 Pro\n",
    "    'Samsung Galaxy S22 FE 5G': 3.0,   # Snapdragon 8 Gen 1\n",
    "    'Poco X7': 2.8,                    # MediaTek Dimensity 1200\n",
    "    'Vivo Y78 5G': 2.2,                # MediaTek Dimensity 7020\n",
    "    'Google Pixel 9A': 2.85,           # Google Tensor G2\n",
    "    'Nothing Phone 4': 3.0,            # Snapdragon 8 Gen 2\n",
    "    'Huawei Mate 70 Pro': 3.13,        # HiSilicon Kirin 9000S\n",
    "    'Samsung Galaxy M56': 2.4,         # Exynos 1280\n",
    "    'OPPO Find N4 Flip': 3.36,         # Snapdragon 8 Gen 3\n",
    "    'Meizu 21x': 2.84,                 # Snapdragon 8+ Gen 1\n",
    "    'Samsung Galaxy A25': 2.4,         # Exynos 1380\n",
    "    'Xiaomi 15': 3.36,                 # Snapdragon 8 Gen 3\n",
    "    'Vivo X110': 3.0,                  # Snapdragon 8 Gen 2\n",
    "    'Xiaomi Redmi K80': 2.84,          # Snapdragon 8+ Gen 1\n",
    "    'Xiaomi Redmi K80 Pro': 3.0,       # Snapdragon 8 Gen 2\n",
    "    'Motorola Moto G63 5G': 2.2,       # Snapdragon 695\n",
    "    'iQOO Z10 5G': 2.2,                # MediaTek Dimensity 7020\n",
    "    'Xiaomi 14T Pro 5G': 3.36,         # Snapdragon 8 Gen 3\n",
    "    'Infinix Note 50': 2.4,            # MediaTek Dimensity 920\n",
    "    'Vivo X100s': 3.0,                 # Snapdragon 8 Gen 2\n",
    "    'Motorola Moto G15': 2.0,          # MediaTek Helio G88\n",
    "    'Vivo X Fold 4': 3.36,             # Snapdragon 8 Gen 3\n",
    "    'Black Shark 7 Pro': 3.36,         # Snapdragon 8 Gen 3\n",
    "    'Motorola Moto S40': 3.36,         # Snapdragon 8 Gen 3\n",
    "    'Oppo Reno 9T': 2.8,               # MediaTek Dimensity 1300\n",
    "    'Apple iPhone 15 Ultra': 3.46,     # Apple A17 Pro\n",
    "    'iQOO Z8 Pro 5G': 3.0              # Snapdragon 8 Gen 2\n",
    "}\n"
   ]
  },
  {
   "cell_type": "code",
   "execution_count": null,
   "metadata": {},
   "outputs": [],
   "source": [
    "df.loc[df.Processor_speed=='Octa']=df.loc[df.Processor_speed=='Octa']"
   ]
  },
  {
   "cell_type": "code",
   "execution_count": null,
   "metadata": {},
   "outputs": [],
   "source": [
    "df.Storage.value_counts()"
   ]
  },
  {
   "cell_type": "code",
   "execution_count": null,
   "metadata": {},
   "outputs": [],
   "source": [
    "df.head(2)"
   ]
  },
  {
   "cell_type": "code",
   "execution_count": null,
   "metadata": {},
   "outputs": [],
   "source": [
    "df.Expandable.value_counts()"
   ]
  },
  {
   "cell_type": "code",
   "execution_count": null,
   "metadata": {},
   "outputs": [],
   "source": []
  }
 ],
 "metadata": {
  "kernelspec": {
   "display_name": "Python 3",
   "language": "python",
   "name": "python3"
  },
  "language_info": {
   "codemirror_mode": {
    "name": "ipython",
    "version": 3
   },
   "file_extension": ".py",
   "mimetype": "text/x-python",
   "name": "python",
   "nbconvert_exporter": "python",
   "pygments_lexer": "ipython3",
   "version": "3.13.0"
  }
 },
 "nbformat": 4,
 "nbformat_minor": 2
}
